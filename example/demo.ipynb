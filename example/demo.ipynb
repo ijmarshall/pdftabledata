{
 "cells": [
  {
   "cell_type": "code",
   "execution_count": 1,
   "metadata": {
    "collapsed": true
   },
   "outputs": [],
   "source": [
    "# %matplotlib notebook\n",
    "%matplotlib notebook\n",
    "import matplotlib.pyplot as plt\n",
    "import xml.etree.cElementTree as ET\n",
    "import numpy as np\n",
    "from scipy.misc import toimage\n",
    "from fuzzywuzzy import process\n"
   ]
  },
  {
   "cell_type": "code",
   "execution_count": 2,
   "metadata": {
    "collapsed": false
   },
   "outputs": [],
   "source": [
    "filename = 'AR-3-4-247' # you need a NXML file, plus an XML file (the latter generated from pdftoxml) with this base name"
   ]
  },
  {
   "cell_type": "code",
   "execution_count": 3,
   "metadata": {
    "collapsed": false
   },
   "outputs": [],
   "source": [
    "# get the basic elements from the pdftoxml XML file\n",
    "\n",
    "data = []\n",
    "page_meta = []\n",
    "text_boxes = []\n",
    "tokens = []\n",
    "\n",
    "for event, elem in ET.iterparse('{}.xml'.format(filename), events=(\"start\", \"end\")):\n",
    "\n",
    "    if event=='start':\n",
    "        if elem.tag=='PAGE':\n",
    "            data.append({\"page\": elem.attrib,\n",
    "                        \"text\": []\n",
    "                        })\n",
    "\n",
    "        if elem.tag=='TEXT':\n",
    "         \n",
    "            data[-1]['text'].append({\"meta\":elem.attrib,\n",
    "                                     \"tokens\": []})\n",
    "        if elem.tag=='TOKEN' and elem.text:\n",
    "            s = elem.text.strip()\n",
    "            data[-1]['text'][-1][\"tokens\"].append(s.replace('–', '-'))\n",
    "    "
   ]
  },
  {
   "cell_type": "code",
   "execution_count": 4,
   "metadata": {
    "collapsed": false
   },
   "outputs": [],
   "source": [
    "# get the labelled text elements from the PMC nxml file\n",
    "import html\n",
    "table_snippets = set()\n",
    "\n",
    "for event, elem in ET.iterparse('{}.nxml'.format(filename)):\n",
    "    \n",
    "    if elem.tag=='td' and elem.text:\n",
    "        table_snippets.add(html.unescape(elem.text).strip())\n",
    "        \n",
    "title_snippets = set()\n",
    "path = []\n",
    "for event, elem in ET.iterparse('{}.nxml'.format(filename), events=[\"start\", \"end\"]):\n",
    "    if event == 'start':\n",
    "        path.append(elem.tag)\n",
    "    else:\n",
    "        if elem.tag=='article-title' and elem.text and 'article-meta' in path:\n",
    "            title_snippets.add(html.unescape(elem.text).strip())\n",
    "        path.pop()\n",
    "        "
   ]
  },
  {
   "cell_type": "code",
   "execution_count": 6,
   "metadata": {
    "collapsed": false
   },
   "outputs": [],
   "source": [
    "p = 4\n",
    "pd = data[p-1]\n",
    "pa = np.ones([int(pd['page']['height']), int(pd['page']['width'])])\n",
    "for box in pd['text']:\n",
    "    text_snippet = ' '.join(box['tokens']).strip()\n",
    "    matches = process.extractOne(text_snippet, table_snippets)\n",
    "    x, y, width, height = [int(float(box['meta'][i])) for i in ['x', 'y', 'width', 'height']]\n",
    "\n",
    "    if matches and matches[1] > 90:\n",
    "        col = 2\n",
    "        pa[y:y+height,x:x+width] = col\n",
    "    else:\n",
    "        col = 0\n",
    "        pa[y:y+height,x:x+width] = col\n",
    "    \n",
    "toimage(pa).show()    \n",
    "    "
   ]
  },
  {
   "cell_type": "code",
   "execution_count": 110,
   "metadata": {
    "collapsed": false
   },
   "outputs": [],
   "source": []
  }
 ],
 "metadata": {
  "kernelspec": {
   "display_name": "Python [Root]",
   "language": "python",
   "name": "Python [Root]"
  },
  "language_info": {
   "codemirror_mode": {
    "name": "ipython",
    "version": 3
   },
   "file_extension": ".py",
   "mimetype": "text/x-python",
   "name": "python",
   "nbconvert_exporter": "python",
   "pygments_lexer": "ipython3",
   "version": "3.5.2"
  }
 },
 "nbformat": 4,
 "nbformat_minor": 0
}
